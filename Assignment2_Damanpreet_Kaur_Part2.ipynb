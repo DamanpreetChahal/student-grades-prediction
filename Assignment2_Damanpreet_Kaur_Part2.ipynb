{
 "cells": [
  {
   "cell_type": "markdown",
   "metadata": {},
   "source": [
    "<h3>Part  6: Consuming Web Service</h3>"
   ]
  },
  {
   "cell_type": "code",
   "execution_count": 1,
   "metadata": {},
   "outputs": [],
   "source": [
    "import requests"
   ]
  },
  {
   "cell_type": "markdown",
   "metadata": {},
   "source": [
    "<p>Testing my sample</p>"
   ]
  },
  {
   "cell_type": "code",
   "execution_count": 2,
   "metadata": {},
   "outputs": [
    {
     "name": "stdout",
     "output_type": "stream",
     "text": [
      "{'Hours_Studied': 23, 'Attendance': 84, 'Parental_Involvement': 0, 'Access_to_Resources': 2, 'Extracurricular_Activities': 0, 'Sleep_Hours': 7, 'Previous_Scores': 73, 'Motivation_Level': 0, 'Internet_Access': 1, 'Tutoring_Sessions': 0, 'Family_Income': 0, 'Teacher_Quality': 1, 'School_Type': 0, 'Peer_Influence': 1, 'Physical_Activity': 3, 'Learning_Disabilities': 0, 'Parental_Education_Level': 0, 'Distance_from_Home': 0, 'Gender': 1}\n"
     ]
    }
   ],
   "source": [
    "response = requests.get(\"http://127.0.0.1:5000/examScore/sample\")\n",
    "print(response.json())"
   ]
  },
  {
   "cell_type": "code",
   "execution_count": 3,
   "metadata": {},
   "outputs": [
    {
     "name": "stdout",
     "output_type": "stream",
     "text": [
      "{\n",
      "    \"Access_to_Resources\": 2,\n",
      "    \"Attendance\": 84,\n",
      "    \"Distance_from_Home\": 0,\n",
      "    \"Extracurricular_Activities\": 0,\n",
      "    \"Family_Income\": 0,\n",
      "    \"Gender\": 1,\n",
      "    \"Hours_Studied\": 23,\n",
      "    \"Internet_Access\": 1,\n",
      "    \"Learning_Disabilities\": 0,\n",
      "    \"Motivation_Level\": 0,\n",
      "    \"Parental_Education_Level\": 0,\n",
      "    \"Parental_Involvement\": 0,\n",
      "    \"Peer_Influence\": 1,\n",
      "    \"Physical_Activity\": 3,\n",
      "    \"Previous_Scores\": 73,\n",
      "    \"School_Type\": 0,\n",
      "    \"Sleep_Hours\": 7,\n",
      "    \"Teacher_Quality\": 1,\n",
      "    \"Tutoring_Sessions\": 0\n",
      "}\n"
     ]
    }
   ],
   "source": [
    "import json\n",
    "\n",
    "def jprint(obj):\n",
    "    # create a formatted string of the Python JSON object\n",
    "    text = json.dumps(obj, sort_keys=True, indent=4)\n",
    "    print(text)\n",
    "\n",
    "jprint(response.json())"
   ]
  },
  {
   "cell_type": "markdown",
   "metadata": {},
   "source": [
    "<p>Testing my \"http://127.0.0.1:5000/examScore/explain\" URL</p>"
   ]
  },
  {
   "cell_type": "code",
   "execution_count": 8,
   "metadata": {},
   "outputs": [
    {
     "name": "stdout",
     "output_type": "stream",
     "text": [
      "Name of the dataframe that I chose from 'https://www.kaggle.com/datasets/lainguyn123/student-performance-factors' is StudentPerformanceFactors. Ithave 20 columns which contain overview of various factors that might affect student performance.It have total 6378 non-null records. The URL:http://127.0.0.1:5000/examScore/sample contains a record related to the dataframe which can be used while testing our model.   The first column 'Hours_Studied' indicates how many hours a student studied in a week. The next column attendance indicates the percentage of the classes attended by the student. Therafter, 'Parental_Involvement' indicates the level of parental involvement in the student's education which can be low, medium or high.Next, the 'Access_to_Resources' column indicates the availabilty of educational resources available to child which are classified between low, medium and high. After that, Extracurricular_Activites' column indicate that whether the student participates in extracurricular activities (Yes/ No). The 'Sleep_Hours' column indicates the average number of hours of sleep per night of a student. The 'Previous_Scores' column indicates the student's' previous exam scores. The next column, 'Motivation_Level' shows the student's level of motivation which can be Low, Medium, or High.The 'Internet_Access' column indicates that whether the student have internet access (Yes/ No). The 'Tutoring_Sessions' gives information about the number of tutoring sessions attended by student per month. 'Family_Income' column indicates that whether the income of the students family is\tLow, Medium, or High. The 'Teacher_Quality'indicates that whether the quality of the teachers of a student is Low, Medium, High. 'School_Type' indicates that whether a student attends Public or  Private school. Next, the 'Peer_Influence' column indicates that whether the influence of peers on academic performance is Positive, Neutral,or Negative.Thereafter, the 'Physical_Activity' indicates average number of hours of physical activity of a student per week. Learning_Disabilities will tell us that whether there is any learning disabilities (Yes, No) in a student.'Parental_Education_Level' column indicates the highest education levelof parents , which contains 3 values High School, College, and Postgraduate. The 'Distance_from_Home' column tells that whether the distance from home to school is Near, Moderate, or Far. 'Gender' column gives information about the\tgender of the student (Male, Female). Finally, the last column'Exam_Score' which is in the datafame but not in the sample conatins final exam scores of student, which we will be predicting in our dataset.\n",
      " While giving values to some columns in the dataframe the following criteria is used and should be used:Instead of writing one of the following values:  'Low, No, Female, Near, High School, Public, Neutral'  in a column write 0 \n",
      " Write 1 in place of 'Medium, Yes, Male, Moderate, College, Private, and Positive' in the column's records/n Finally, write 2 in place of 'High, Far, Postgraduate and Negative.'Thus, URL ending with '/examScore/sample' provides a sample of records of student which can be used or modified to predict the exam score in the post request for URL http://127.0.0.1:5000/examScore/evaluate that will return exam score of the student according to the values in our request JSON \n"
     ]
    }
   ],
   "source": [
    "response = requests.get(\"http://127.0.0.1:5000/examScore/explain\")\n",
    "print(response.text)"
   ]
  },
  {
   "cell_type": "markdown",
   "metadata": {},
   "source": [
    "<p>Testing URL: \"http://127.0.0.1:5000/examScore/evaluate\"  5 times with different inputs.</p>"
   ]
  },
  {
   "cell_type": "markdown",
   "metadata": {},
   "source": [
    "<h6>First Input</h6>"
   ]
  },
  {
   "cell_type": "code",
   "execution_count": 9,
   "metadata": {},
   "outputs": [],
   "source": [
    "newScore1 = {'Hours_Studied': 23, 'Attendance': 84, 'Parental_Involvement': 0, 'Access_to_Resources': 2, 'Extracurricular_Activities': 0, 'Sleep_Hours': 7, 'Previous_Scores': 73, 'Motivation_Level': 0, 'Internet_Access': 1, 'Tutoring_Sessions': 0, 'Family_Income': 0, 'Teacher_Quality': 1, 'School_Type': 0, 'Peer_Influence': 1, 'Physical_Activity': 3, 'Learning_Disabilities': 0, 'Parental_Education_Level': 0, 'Distance_from_Home': 0, 'Gender': 1}\n",
    "response1 = requests.post(\"http://127.0.0.1:5000/examScore/evaluate\", json = newScore1) "
   ]
  },
  {
   "cell_type": "code",
   "execution_count": 10,
   "metadata": {},
   "outputs": [
    {
     "name": "stdout",
     "output_type": "stream",
     "text": [
      "66.57385556681086\n"
     ]
    }
   ],
   "source": [
    "print(response1.text)"
   ]
  },
  {
   "cell_type": "markdown",
   "metadata": {},
   "source": [
    "<h6>2nd Input</h6>"
   ]
  },
  {
   "cell_type": "code",
   "execution_count": 12,
   "metadata": {},
   "outputs": [
    {
     "name": "stdout",
     "output_type": "stream",
     "text": [
      "72.2553402139924\n"
     ]
    }
   ],
   "source": [
    "newScore = {\"Hours_Studied\":19,\"Attendance\":99,\"Parental_Involvement\":1,\"Access_to_Resources\":2,\"Extracurricular_Activities\":0,\"Sleep_Hours\":6,\"Previous_Scores\":84,\"Motivation_Level\":1,\"Internet_Access\":1,\"Tutoring_Sessions\":1,\"Family_Income\":1,\"Teacher_Quality\":2,\"School_Type\":0,\"Peer_Influence\":0,\"Physical_Activity\":3,\"Learning_Disabilities\":0,\"Parental_Education_Level\":0,\"Distance_from_Home\":0,\"Gender\":1}\n",
    "response = requests.post(\"http://127.0.0.1:5000/examScore/evaluate\", json = newScore) \n",
    "print(response.text)"
   ]
  },
  {
   "cell_type": "markdown",
   "metadata": {},
   "source": [
    "<h6>3rd Input</h6>"
   ]
  },
  {
   "cell_type": "code",
   "execution_count": 13,
   "metadata": {},
   "outputs": [
    {
     "name": "stdout",
     "output_type": "stream",
     "text": [
      "66.74975911834619\n"
     ]
    }
   ],
   "source": [
    "newScore2 ={\"Hours_Studied\":9,\"Attendance\":96,\"Parental_Involvement\":1,\"Access_to_Resources\":1,\"Extracurricular_Activities\":1,\"Sleep_Hours\":4,\"Previous_Scores\":82,\"Motivation_Level\":2,\"Internet_Access\":0,\"Tutoring_Sessions\":0,\"Family_Income\":0,\"Teacher_Quality\":1,\"School_Type\":0,\"Peer_Influence\":1,\"Physical_Activity\":4,\"Learning_Disabilities\":0,\"Parental_Education_Level\":1,\"Distance_from_Home\":0,\"Gender\":1}\n",
    "response2 = requests.post(\"http://127.0.0.1:5000/examScore/evaluate\", json = newScore2) \n",
    "print(response2.text)"
   ]
  },
  {
   "cell_type": "markdown",
   "metadata": {},
   "source": [
    "<h6>Fourth Input</h6>"
   ]
  },
  {
   "cell_type": "code",
   "execution_count": 14,
   "metadata": {},
   "outputs": [
    {
     "name": "stdout",
     "output_type": "stream",
     "text": [
      "64.99506693198965\n"
     ]
    }
   ],
   "source": [
    "newScore3 = {\"Hours_Studied\":25,\"Attendance\":69,\"Parental_Involvement\":0,\"Access_to_Resources\":2,\"Extracurricular_Activities\":1,\"Sleep_Hours\":7,\"Previous_Scores\":78,\"Motivation_Level\":1,\"Internet_Access\":1,\"Tutoring_Sessions\":0,\"Family_Income\":0,\"Teacher_Quality\":2,\"School_Type\":0,\"Peer_Influence\":2,\"Physical_Activity\":3,\"Learning_Disabilities\":0,\"Parental_Education_Level\":0,\"Distance_from_Home\":2,\"Gender\":0}\n",
    "response3 = requests.post(\"http://127.0.0.1:5000/examScore/evaluate\", json = newScore3) \n",
    "print(response3.text)"
   ]
  },
  {
   "cell_type": "markdown",
   "metadata": {},
   "source": [
    "<h6>Fifth Input</h6>"
   ]
  },
  {
   "cell_type": "code",
   "execution_count": 16,
   "metadata": {},
   "outputs": [],
   "source": [
    "newScore4 = {\"Hours_Studied\":12,\"Attendance\":75,\"Parental_Involvement\":1,\"Access_to_Resources\":2,\"Extracurricular_Activities\":1,\"Sleep_Hours\":7,\"Previous_Scores\":58,\"Motivation_Level\":1,\"Internet_Access\":1,\"Tutoring_Sessions\":3,\"Family_Income\":1,\"Teacher_Quality\":1,\"School_Type\":1,\"Peer_Influence\":1,\"Physical_Activity\":4,\"Learning_Disabilities\":0,\"Parental_Education_Level\":1,\"Distance_from_Home\":0,\"Gender\":1}\n",
    "response4 = requests.post(\"http://127.0.0.1:5000/examScore/evaluate\", json = newScore4) "
   ]
  },
  {
   "cell_type": "code",
   "execution_count": 17,
   "metadata": {},
   "outputs": [
    {
     "name": "stdout",
     "output_type": "stream",
     "text": [
      "65.58452728980453\n"
     ]
    }
   ],
   "source": [
    "print(response4.text)"
   ]
  },
  {
   "cell_type": "markdown",
   "metadata": {},
   "source": [
    "<h4> ************Finished*********************</h4>"
   ]
  }
 ],
 "metadata": {
  "kernelspec": {
   "display_name": "base",
   "language": "python",
   "name": "python3"
  },
  "language_info": {
   "codemirror_mode": {
    "name": "ipython",
    "version": 3
   },
   "file_extension": ".py",
   "mimetype": "text/x-python",
   "name": "python",
   "nbconvert_exporter": "python",
   "pygments_lexer": "ipython3",
   "version": "3.12.4"
  }
 },
 "nbformat": 4,
 "nbformat_minor": 2
}
